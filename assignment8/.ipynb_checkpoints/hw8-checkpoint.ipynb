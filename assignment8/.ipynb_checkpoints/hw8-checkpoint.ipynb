{
 "cells": [
  {
   "cell_type": "markdown",
   "metadata": {},
   "source": [
    "## training the decision tree model"
   ]
  },
  {
   "cell_type": "code",
   "execution_count": 1,
   "metadata": {
    "collapsed": false
   },
   "outputs": [
    {
     "name": "stdout",
     "output_type": "stream",
     "text": [
      "Populating the interactive namespace from numpy and matplotlib\n"
     ]
    }
   ],
   "source": [
    "%pylab inline\n",
    "import numpy as np\n",
    "import pylab as pl\n",
    "import pandas as pd\n",
    "from sklearn import tree"
   ]
  },
  {
   "cell_type": "markdown",
   "metadata": {},
   "source": [
    "## 1.Write a small paragraph describing the dataset that you choose, its features, number of instances, nature of the data, and anything else that you found to be interesting.\n",
    "\n",
    "answer: This data contains protein localization sites\n",
    "### Attribute Information:\n",
    "1. Sequence Name: Accession number for the SWISS-PROT database \n",
    "2. mcg: McGeoch's method for signal sequence recognition. \n",
    "3. gvh: von Heijne's method for signal sequence recognition. \n",
    "4. lip: von Heijne's Signal Peptidase II consensus sequence score. Binary attribute. \n",
    "5. chg: Presence of charge on N-terminus of predicted lipoproteins. Binary attribute. \n",
    "6. aac: score of discriminant analysis of the amino acid content of outer membrane and periplasmic proteins. \n",
    "7. alm1: score of the ALOM membrane spanning region prediction program. \n",
    "8. alm2: score of ALOM program after excluding putative cleavable signal regions from the sequence.\n",
    "\n",
    "###  Number of Instances : \n",
    "336 \n",
    "###  Number of Attributes :\n",
    "E.coli dataset:  8 ( 7 predictive, 1 name )\n",
    "\n",
    "### Class Distribution : \n",
    " * cp  (cytoplasm)                                    143\n",
    " * im  (inner membrane without signal sequence)        77               \n",
    " * pp  (perisplasm)                                    52\n",
    " * imU (inner membrane, uncleavable signal sequence)   35\n",
    " * om  (outer membrane)                                20\n",
    " * omL (outer membrane lipoprotein)                     5\n",
    " * imL (inner membrane lipoprotein)                     2\n",
    " * imS (inner membrane, cleavable signal sequence)      2\n",
    " \n",
    "### Missing Attribute Values :\n",
    "None.\n",
    "### Note :\n",
    "I have preprocessed my data, splitting them into the training data stored in file 'ecoli.training.data' and testing data stored in 'ecoli.test.data'"
   ]
  },
  {
   "cell_type": "code",
   "execution_count": 2,
   "metadata": {
    "collapsed": false
   },
   "outputs": [],
   "source": [
    "fileURL = 'ecoli.training.data'\n",
    "ecoliTrain = pd.read_csv(fileURL,names= ['name','mcg', 'gvh', 'lip','chg','aac','alm1',\n",
    "                                  'alm2','target'],header= None)\n",
    "ecoliTrain = ecoliTrain.dropna()\n",
    "fileURL = 'ecoli.test.data'\n",
    "ecoliTest = pd.read_csv(fileURL,names= ['name','mcg', 'gvh', 'lip','chg','aac','alm1',\n",
    "                                  'alm2','target'],header= None)\n",
    "ecoliTest = ecoliTest.dropna()"
   ]
  },
  {
   "cell_type": "code",
   "execution_count": 3,
   "metadata": {
    "collapsed": false
   },
   "outputs": [],
   "source": [
    "ecoliTrain['target'] = ecoliTrain['target'].replace(['cp', 'im', 'imS','imL','imU','om',\n",
    "                                  'omL','pp'],[1,0,0,0,0,0,0,0])\n",
    "ecoliTest['target'] = ecoliTest['target'].replace(['cp', 'im', 'imS','imL','imU','om',\n",
    "                                  'omL','pp'],[1,0,0,0,0,0,0,0])"
   ]
  },
  {
   "cell_type": "code",
   "execution_count": 4,
   "metadata": {
    "collapsed": true
   },
   "outputs": [],
   "source": [
    "X = ecoliTrain.iloc[:,1:-1].as_matrix()\n",
    "y = ecoliTrain.iloc[:,-1].as_matrix()\n",
    "clf = tree.DecisionTreeClassifier(max_depth = 3)\n",
    "clf = clf.fit(X,y)"
   ]
  },
  {
   "cell_type": "code",
   "execution_count": 5,
   "metadata": {
    "collapsed": true
   },
   "outputs": [],
   "source": [
    "testX = ecoliTest.iloc[:,1:-1].as_matrix()\n",
    "y_true= ecoliTest.iloc[:,-1].as_matrix()"
   ]
  },
  {
   "cell_type": "code",
   "execution_count": 6,
   "metadata": {
    "collapsed": false
   },
   "outputs": [],
   "source": [
    "y_score = clf.predict_proba(testX)"
   ]
  },
  {
   "cell_type": "code",
   "execution_count": 7,
   "metadata": {
    "collapsed": true
   },
   "outputs": [],
   "source": [
    "y_predict = clf.predict(testX)"
   ]
  },
  {
   "cell_type": "markdown",
   "metadata": {},
   "source": [
    "## 1 .The accuracy of your model on the test data"
   ]
  },
  {
   "cell_type": "code",
   "execution_count": 8,
   "metadata": {
    "collapsed": false
   },
   "outputs": [
    {
     "name": "stdout",
     "output_type": "stream",
     "text": [
      "the accuracy of our model is : \n",
      "0.949494949495\n"
     ]
    }
   ],
   "source": [
    "print(\"the accuracy of our model is : \")\n",
    "print(clf.score(testX,y_true))"
   ]
  },
  {
   "cell_type": "markdown",
   "metadata": {},
   "source": [
    "## 2 .The precision and recall values"
   ]
  },
  {
   "cell_type": "code",
   "execution_count": 9,
   "metadata": {
    "collapsed": true
   },
   "outputs": [],
   "source": [
    "import matplotlib.pyplot as plt\n",
    "from itertools import cycle\n",
    "\n",
    "from sklearn import svm, datasets\n",
    "from sklearn.metrics import precision_recall_curve\n",
    "from sklearn.metrics import average_precision_score\n",
    "from sklearn.model_selection import train_test_split\n",
    "from sklearn.preprocessing import label_binarize\n"
   ]
  },
  {
   "cell_type": "code",
   "execution_count": 10,
   "metadata": {
    "collapsed": false
   },
   "outputs": [],
   "source": [
    "def getY(Y):\n",
    "    retList = []\n",
    "    for y in Y:\n",
    "        if y == 1:\n",
    "            retList.append([0,1])\n",
    "        else:\n",
    "            retList.append([1,0])\n",
    "    return np.array(retList)\n",
    "y_test = getY(label_binarize(y_true, classes=[0, 1]))"
   ]
  },
  {
   "cell_type": "code",
   "execution_count": 11,
   "metadata": {
    "collapsed": false
   },
   "outputs": [],
   "source": [
    "# Compute Precision-Recall and plot curve\n",
    "precision = dict()\n",
    "recall = dict()\n",
    "thresholds = dict()\n",
    "average_precision = dict()\n",
    "n_classes = 2\n",
    "for i in range(n_classes):\n",
    "    precision[i], recall[i], thresholds[i],  = precision_recall_curve(y_test[:, i],\n",
    "                                                        y_score[:, i])\n",
    "    average_precision[i] = average_precision_score(y_test[:, i], y_score[:, i])"
   ]
  },
  {
   "cell_type": "code",
   "execution_count": 12,
   "metadata": {
    "collapsed": false
   },
   "outputs": [
    {
     "name": "stdout",
     "output_type": "stream",
     "text": [
      "precision value, recall values and threshholds for class 0 :\n",
      "[ 0.9122807   0.90909091  0.94871795  1.        ]\n",
      "[ 1.          0.96153846  0.71153846  0.        ]\n",
      "[ 0.8         0.95833333  1.        ]\n",
      "precision value, recall values and threshholds for class 1 :\n",
      "[ 0.47474747  0.75        0.95454545  1.          1.          1.          1.        ]\n",
      "[ 1.          0.95744681  0.89361702  0.89361702  0.85106383  0.68085106\n",
      "  0.        ]\n",
      "[ 0.          0.04166667  0.2         0.75        0.82352941  0.98684211]\n"
     ]
    }
   ],
   "source": [
    "print(\"precision value, recall values and threshholds for class 0 :\")\n",
    "print(precision[0])\n",
    "print(recall[0])\n",
    "print(thresholds[0])\n",
    "print(\"precision value, recall values and threshholds for class 1 :\")\n",
    "print(precision[1])\n",
    "print(recall[1])\n",
    "print(thresholds[1])"
   ]
  },
  {
   "cell_type": "markdown",
   "metadata": {},
   "source": [
    "## 3.A classification report"
   ]
  },
  {
   "cell_type": "code",
   "execution_count": 13,
   "metadata": {
    "collapsed": false
   },
   "outputs": [
    {
     "name": "stdout",
     "output_type": "stream",
     "text": [
      "             precision    recall  f1-score   support\n",
      "\n",
      "    class 0       0.91      1.00      0.95        52\n",
      "    class 1       1.00      0.89      0.94        47\n",
      "\n",
      "avg / total       0.95      0.95      0.95        99\n",
      "\n"
     ]
    }
   ],
   "source": [
    "from sklearn.metrics import classification_report\n",
    "target_names = ['class 0', 'class 1']\n",
    "print(classification_report(y_true, y_predict, target_names=target_names))"
   ]
  },
  {
   "cell_type": "markdown",
   "metadata": {},
   "source": [
    "In the test data , we have 99 in total, 52 for negative(0), 47 for positive <br /> \n",
    "The total precision is 0.95. the precision of class 0(positive) is 0.91 while class 1 is 1.<br />\n",
    "The recall rate of class 0 is 1 while class 1 is 0.89."
   ]
  },
  {
   "cell_type": "markdown",
   "metadata": {},
   "source": [
    "## 4. The confusion matrix for this experiment"
   ]
  },
  {
   "cell_type": "code",
   "execution_count": 14,
   "metadata": {
    "collapsed": true
   },
   "outputs": [],
   "source": [
    "def plot_confusion_matrix(cm, classes,\n",
    "                          normalize=False,\n",
    "                          title='Confusion matrix',\n",
    "                          cmap=plt.cm.Blues):\n",
    "    \"\"\"\n",
    "    This function prints and plots the confusion matrix.\n",
    "    Normalization can be applied by setting `normalize=True`.\n",
    "    \"\"\"\n",
    "    plt.imshow(cm, interpolation='nearest', cmap=cmap)\n",
    "    plt.title(title)\n",
    "    plt.colorbar()\n",
    "    tick_marks = np.arange(len(classes))\n",
    "    plt.xticks(tick_marks, classes, rotation=45)\n",
    "    plt.yticks(tick_marks, classes)\n",
    "\n",
    "    if normalize:\n",
    "        cm = cm.astype('float') / cm.sum(axis=1)[:, np.newaxis]\n",
    "        print(\"Normalized confusion matrix\")\n",
    "    else:\n",
    "        print('Confusion matrix, without normalization')\n",
    "\n",
    "    print(cm)\n",
    "\n",
    "    thresh = cm.max() / 2.\n",
    "    for i, j in itertools.product(range(cm.shape[0]), range(cm.shape[1])):\n",
    "        plt.text(j, i, cm[i, j],\n",
    "                 horizontalalignment=\"center\",\n",
    "                 color=\"white\" if cm[i, j] > thresh else \"black\")\n",
    "\n",
    "    plt.tight_layout()\n",
    "    plt.ylabel('True label')\n",
    "    plt.xlabel('Predicted label')"
   ]
  },
  {
   "cell_type": "code",
   "execution_count": 15,
   "metadata": {
    "collapsed": false
   },
   "outputs": [],
   "source": [
    "from sklearn.metrics import confusion_matrix\n",
    "cnf_matrix = confusion_matrix(y_true, y_predict)"
   ]
  },
  {
   "cell_type": "code",
   "execution_count": 16,
   "metadata": {
    "collapsed": false
   },
   "outputs": [
    {
     "name": "stdout",
     "output_type": "stream",
     "text": [
      "Confusion matrix, without normalization\n",
      "[[52  0]\n",
      " [ 5 42]]\n",
      "Normalized confusion matrix\n",
      "[[ 1.    0.  ]\n",
      " [ 0.11  0.89]]\n"
     ]
    },
    {
     "data": {
      "image/png": "[encoded data removed]",
      "text/plain": [
       "<matplotlib.figure.Figure at 0x11537cc18>"
      ]
     },
     "metadata": {},
     "output_type": "display_data"
    },
    {
     "data": {
      "image/png": "[encoded data removed]",
      "text/plain": [
       "<matplotlib.figure.Figure at 0x11536e5f8>"
      ]
     },
     "metadata": {},
     "output_type": "display_data"
    }
   ],
   "source": [
    "import itertools\n",
    "np.set_printoptions(precision=2)\n",
    "\n",
    "# Plot non-normalized confusion matrix\n",
    "plt.figure()\n",
    "plot_confusion_matrix(cnf_matrix, classes=['class0','class1'],\n",
    "                      title='Confusion matrix, without normalization')\n",
    "\n",
    "# Plot normalized confusion matrix\n",
    "plt.figure()\n",
    "plot_confusion_matrix(cnf_matrix, classes=['class0','class1'], normalize=True,\n",
    "                      title='Normalized confusion matrix')\n",
    "\n",
    "plt.show()"
   ]
  },
  {
   "cell_type": "markdown",
   "metadata": {},
   "source": [
    "From the confusion matrix we can see that: <br />\n",
    "All of the class 0 is correctly predicted while 5 data of class 1 is incorrectly predicted as class 0."
   ]
  },
  {
   "cell_type": "markdown",
   "metadata": {},
   "source": [
    "## 5.An ROC curve"
   ]
  },
  {
   "cell_type": "code",
   "execution_count": 17,
   "metadata": {
    "collapsed": false
   },
   "outputs": [],
   "source": [
    "from sklearn.metrics import roc_curve, auc\n",
    "# Compute ROC curve and ROC area for each class\n",
    "fpr = dict()\n",
    "tpr = dict()\n",
    "roc_auc = dict()\n",
    "n_classes = 2\n",
    "for i in range(n_classes):\n",
    "    fpr[i], tpr[i], thresholds[i], = roc_curve(y_test[:, i], y_score[:, i])\n",
    "    roc_auc[i] = auc(fpr[i], tpr[i])"
   ]
  },
  {
   "cell_type": "code",
   "execution_count": 18,
   "metadata": {
    "collapsed": false
   },
   "outputs": [
    {
     "name": "stdout",
     "output_type": "stream",
     "text": [
      "[ 0.    0.    0.    0.04  0.29  1.  ]\n",
      "[ 0.68  0.85  0.89  0.89  0.96  1.  ]\n",
      "[ 0.99  0.82  0.75  0.2   0.04  0.  ]\n",
      "0.962152209493\n"
     ]
    }
   ],
   "source": [
    "print(fpr[1])\n",
    "print(tpr[1])\n",
    "print(thresholds[1])\n",
    "print(roc_auc[1])"
   ]
  },
  {
   "cell_type": "code",
   "execution_count": 19,
   "metadata": {
    "collapsed": false
   },
   "outputs": [
    {
     "data": {
      "image/png": "[encoded data removed]",
      "text/plain": [
       "<matplotlib.figure.Figure at 0x115848a58>"
      ]
     },
     "metadata": {},
     "output_type": "display_data"
    }
   ],
   "source": [
    "plt.figure()\n",
    "lw = 2\n",
    "plt.plot(fpr[1], tpr[1], color='darkorange',\n",
    "         lw=lw, label='ROC curve (area = %0.2f)' % roc_auc[1])\n",
    "plt.plot([0, 1], [0, 1], color='navy', lw=lw, linestyle='--')\n",
    "plt.xlim([0.0, 1.0])\n",
    "plt.ylim([0.0, 1.05])\n",
    "plt.xlabel('False Positive Rate')\n",
    "plt.ylabel('True Positive Rate')\n",
    "plt.title('Receiver operating characteristic example for class 1')\n",
    "plt.legend(loc=\"lower right\")\n",
    "plt.show()"
   ]
  },
  {
   "cell_type": "markdown",
   "metadata": {},
   "source": [
    "while set the threshold as 0.99,0.82,0.75,0.2,0.04,0, we get the curve of orange in the above figure. The area under the ROC curve is 0.96, which means our model preforms really well."
   ]
  },
  {
   "cell_type": "markdown",
   "metadata": {},
   "source": [
    "## 6. A Precision/Recall curve"
   ]
  },
  {
   "cell_type": "code",
   "execution_count": 20,
   "metadata": {
    "collapsed": false
   },
   "outputs": [
    {
     "data": {
      "image/png": "[encoded data removed]",
      "text/plain": [
       "<matplotlib.figure.Figure at 0x115873518>"
      ]
     },
     "metadata": {},
     "output_type": "display_data"
    }
   ],
   "source": [
    "# setup plot details\n",
    "colors = cycle(['navy', 'turquoise', 'darkorange', 'cornflowerblue', 'teal'])\n",
    "# Plot Precision-Recall curve for each class\n",
    "plt.clf()\n",
    "for i, color in zip(range(n_classes), colors):\n",
    "    plt.plot(recall[i], precision[i], color=color, lw=lw,\n",
    "             label='Precision-recall curve of class {0} (area = {1:0.2f})'\n",
    "                   ''.format(i, average_precision[i]))\n",
    "\n",
    "plt.xlim([0.0, 1.0])\n",
    "plt.ylim([0.0, 1.05])\n",
    "plt.xlabel('Recall')\n",
    "plt.ylabel('Precision')\n",
    "plt.title('Precision-Recall curve for class 0 and 1')\n",
    "plt.legend(loc=\"lower right\")\n",
    "plt.show()"
   ]
  },
  {
   "cell_type": "markdown",
   "metadata": {},
   "source": [
    "The precision and recall curve of class 0 and 1 is shown in the above figure. You can see that for both class 0 and 1 our model has great performance with area 0.96 of class 1 , 0,97 of class 0."
   ]
  }
 ],
 "metadata": {
  "kernelspec": {
   "display_name": "Python 3",
   "language": "python",
   "name": "python3"
  },
  "language_info": {
   "codemirror_mode": {
    "name": "ipython",
    "version": 3
   },
   "file_extension": ".py",
   "mimetype": "text/x-python",
   "name": "python",
   "nbconvert_exporter": "python",
   "pygments_lexer": "ipython3",
   "version": "3.6.0"
  }
 },
 "nbformat": 4,
 "nbformat_minor": 2
}
